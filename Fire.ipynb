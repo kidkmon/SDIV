{
 "cells": [
  {
   "cell_type": "code",
   "execution_count": 2,
   "metadata": {
    "collapsed": true
   },
   "outputs": [
    {
     "name": "stdout",
     "output_type": "stream",
     "text": [
      "Fire is detected..!\n",
      "Fire is detected..!\n",
      "Fire is detected..!\n",
      "Fire is detected..!\n",
      "Fire is detected..!\n",
      "Fire is detected..!\n",
      "Fire is detected..!\n",
      "Fire is detected..!\n",
      "Fire is detected..!\n",
      "Fire is detected..!\n"
     ]
    }
   ],
   "source": [
    "import numpy as np\n",
    "import cv2\n",
    "#import serial\n",
    "import time\n",
    "\n",
    "\n",
    "fire_cascade = cv2.CascadeClassifier('fire_detection.xml')\n",
    "#fire_detection.xml file & this code should be in the same folder while running the code\n",
    "\n",
    "#ser1 = serial.Serial('COM14',9600)#change COM port number on which your arduino is connected\n",
    "\n",
    "cap = cv2.VideoCapture(0)\n",
    "while 1:\n",
    "    #ser1.write('0')\n",
    "    ret, img = cap.read()\n",
    "    #cv2.imshow('imgorignal',img)\n",
    "    gray = cv2.cvtColor(img,cv2.COLOR_BGR2GRAY)\n",
    "    fire = fire_cascade.detectMultiScale(img, 1.2, 5)\n",
    "    for (x,y,w,h) in fire:\n",
    "        cv2.rectangle(img,(x,y),(x+w,y+h),(0,0,255),2)\n",
    "        roi_gray = gray[y:y+h, x:x+w]\n",
    "        roi_color = img[y:y+h, x:x+w]\n",
    "        print('Fire is detected..!')\n",
    "        #ser1.write('p')\n",
    "        time.sleep(0.2)\n",
    "        \n",
    "    cv2.imshow('img',img)\n",
    "    #ser1.write('s')\n",
    "    \n",
    "    k = cv2.waitKey(30) & 0xff\n",
    "    if k == 27:\n",
    "        break\n",
    "\n",
    "cap.release()\n",
    "cv2.destroyAllWindows()\n"
   ]
  },
  {
   "cell_type": "code",
   "execution_count": 1,
   "metadata": {},
   "outputs": [
    {
     "name": "stderr",
     "output_type": "stream",
     "text": [
      "C:\\Users\\Ocean\\Anaconda2\\envs\\py36\\lib\\site-packages\\h5py\\__init__.py:36: FutureWarning: Conversion of the second argument of issubdtype from `float` to `np.floating` is deprecated. In future, it will be treated as `np.float64 == np.dtype(float).type`.\n",
      "  from ._conv import register_converters as _register_converters\n",
      "Using TensorFlow backend.\n"
     ]
    }
   ],
   "source": [
    "from keras import models\n",
    "from keras import layers\n",
    "from keras import optimizers\n",
    "from keras.preprocessing.image import ImageDataGenerator\n",
    "\n",
    "from sklearn.metrics import accuracy_score, confusion_matrix, f1_score, recall_score, precision_score, classification_report"
   ]
  },
  {
   "cell_type": "code",
   "execution_count": 2,
   "metadata": {},
   "outputs": [],
   "source": [
    "size=128\n",
    "model = models.Sequential()\n",
    "model.add(layers.Conv2D(32, (3, 3), activation='relu', input_shape=(size,size,3)))\n",
    "model.add(layers.MaxPooling2D((2, 2)))\n",
    "model.add(layers.Conv2D(64, (3, 3), activation='relu'))\n",
    "model.add(layers.MaxPooling2D(2, 2))\n",
    "model.add(layers.Conv2D(128, (3, 3), activation='relu'))\n",
    "model.add(layers.MaxPooling2D(2, 2))\n",
    "model.add(layers.Conv2D(128, (3, 3), activation='relu'))\n",
    "model.add(layers.MaxPooling2D(2, 2))\n",
    "model.add(layers.Flatten())\n",
    "model.add(layers.Dropout(0.5))\n",
    "model.add(layers.Dense(512, activation='relu'))\n",
    "model.add(layers.Dense(1, activation='softmax'))"
   ]
  },
  {
   "cell_type": "code",
   "execution_count": 3,
   "metadata": {},
   "outputs": [],
   "source": [
    "model.compile(optimizer=optimizers.RMSprop(lr=0.0003), loss='binary_crossentropy', metrics=['acc'])"
   ]
  },
  {
   "cell_type": "code",
   "execution_count": 4,
   "metadata": {},
   "outputs": [],
   "source": [
    "train_datagen = ImageDataGenerator(\n",
    "    rescale=1./255,\n",
    "    rotation_range=40,\n",
    "    width_shift_range=0.2,\n",
    "    height_shift_range=0.2,\n",
    "    shear_range=0.2,\n",
    "    zoom_range=0.2,\n",
    "    horizontal_flip=True)\n",
    "validation_datagen = ImageDataGenerator(rescale=1.255)\n",
    "test_datagen = ImageDataGenerator(rescale=1./255)"
   ]
  },
  {
   "cell_type": "code",
   "execution_count": 5,
   "metadata": {},
   "outputs": [
    {
     "name": "stdout",
     "output_type": "stream",
     "text": [
      "Found 2800 images belonging to 2 classes.\n",
      "Found 1200 images belonging to 2 classes.\n",
      "Found 400 images belonging to 2 classes.\n"
     ]
    }
   ],
   "source": [
    "train_generator = train_datagen.flow_from_directory('data/train',\n",
    "target_size=(size,size),batch_size=64, class_mode='binary')\n",
    "validation_generator = validation_datagen.flow_from_directory('data/valid', target_size=(size,size), batch_size=128, class_mode='binary')\n",
    "test_generator = test_datagen.flow_from_directory('data/test', target_size=(size,size), batch_size=64, class_mode='binary')"
   ]
  },
  {
   "cell_type": "code",
   "execution_count": 6,
   "metadata": {},
   "outputs": [
    {
     "name": "stdout",
     "output_type": "stream",
     "text": [
      "Epoch 1/5\n",
      "63/63 [==============================] - 92s 1s/step - loss: 7.9079 - acc: 0.5040 - val_loss: 7.8822 - val_acc: 0.5056\n",
      "Epoch 2/5\n",
      "63/63 [==============================] - 77s 1s/step - loss: 8.0451 - acc: 0.4954 - val_loss: 8.1275 - val_acc: 0.4902\n",
      "Epoch 3/5\n",
      "63/63 [==============================] - 76s 1s/step - loss: 7.9568 - acc: 0.5009 - val_loss: 7.9907 - val_acc: 0.4988\n",
      "Epoch 4/5\n",
      "63/63 [==============================] - 77s 1s/step - loss: 8.0082 - acc: 0.4977 - val_loss: 7.8644 - val_acc: 0.5067\n",
      "Epoch 5/5\n",
      "63/63 [==============================] - 77s 1s/step - loss: 7.8764 - acc: 0.5059 - val_loss: 7.8930 - val_acc: 0.5049\n"
     ]
    },
    {
     "data": {
      "text/plain": [
       "<keras.callbacks.History at 0x1b13d452630>"
      ]
     },
     "execution_count": 6,
     "metadata": {},
     "output_type": "execute_result"
    }
   ],
   "source": [
    "model.fit_generator(train_generator, epochs=5, steps_per_epoch=63,\n",
    "                    validation_data=validation_generator, validation_steps=7, workers=4)"
   ]
  },
  {
   "cell_type": "code",
   "execution_count": 7,
   "metadata": {},
   "outputs": [],
   "source": [
    "model.save('model4.h5')"
   ]
  },
  {
   "cell_type": "code",
   "execution_count": 19,
   "metadata": {},
   "outputs": [],
   "source": [
    "model_loaded = models.load_model('model.h5')"
   ]
  }
 ],
 "metadata": {
  "kernelspec": {
   "display_name": "Python 3",
   "language": "python",
   "name": "python3"
  },
  "language_info": {
   "codemirror_mode": {
    "name": "ipython",
    "version": 3
   },
   "file_extension": ".py",
   "mimetype": "text/x-python",
   "name": "python",
   "nbconvert_exporter": "python",
   "pygments_lexer": "ipython3",
   "version": "3.6.5"
  }
 },
 "nbformat": 4,
 "nbformat_minor": 2
}
